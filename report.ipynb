{
 "cells": [
  {
   "cell_type": "markdown",
   "id": "42521a56",
   "metadata": {},
   "source": [
    "# Poročilo\n",
    "\n",
    "Podatkovno Rudarjenje 21/22 Skupina 9 Lara Pirjevec, Tilen Kelc, Rok Stanič, Tomaž Plešnik, Erik Poljšak\n",
    "\n",
    "## Problem\n",
    "\n",
    "Alkohol in njegovi učinki na voznika, je še vedno eden glavnih elementov pri povzročitvi prometnih nesreč. Alkohol omeji naše sposobnosti varnega sodelovanja v prometu, počasnejše zaznavamo, predvidevamo in presodimo situacije. Zato se zaradi vpliva alkohola že pri koncentraciji 0,5 promila verjetnost povzročitve prometne nesreče podvoji, pri 1,1 promila alkohola pa 8-krat poveča v primerjavi s treznim voznikom.\n",
    "Zakoni glede omejitve koncentracije alkohola v krvi se čez leta spreminjajo. Vedno bolj se poostrujejo, ampak zaskrbljujoče je da več kot tretjina voznikov, ki povzročijo smrtno prometno nesrečo, vozi pod vplivom alkohola.\n",
    "Leta 2019 je Agencija za varnost prometa (AVP) dala predlog, da bi znižali dovoljene meje alkohola za voznike s sedanjih 0,5 na 0,2 promila alkohola v krvi. Ministrstvu za infrastrukturo pa predlagajo tudi strožjo obravnavo voznikov, ki imajo v krvi več kot 1,1 promila alkohola.\n",
    "\n",
    "Zanima nas če so spremembe zakonika res potrebne, pri zmanjšanju nesreč in izboljšanju situacije. Glavno vprašanje je \"Ali se večina prometnih nesreč zaradi vinjenosti zgodi znotraj dovoljenih meja?\", iz katerega pa sledijo tudi podvprašanja, kot so:\n",
    "\n",
    "- Kolikšna je povezava z vsebnostjo alkohola in nesrečami s težkimi poškodbami in smrtmi?\n",
    "-\t \"Ali so ceste bolj varne s strožji ukrepi?\",\n",
    "-\t\"Kakšen tip nesreče je najbolj pogost zaradi vinjenosti?\",\n",
    "-\t\"Ali je res vinjenost največji dejavnik v prometnih nesrečah?\",\n",
    "-\t\"Kakšne so starostne skupine v dotičnih nesrečah?\",\n",
    "-\t\"Kdaj se take nesreče zgodijo?\"\n",
    "\n",
    "\n",
    "## Podatki\n",
    "\n",
    "Podatke smo pridobili preko statističnega urada in sicer policijski zapisnik od leta 2009 dalje. \n",
    "\n",
    "Link: https://podatki.gov.si/data/search?open_data=True&all_podrocje=Promet+in+infrastruktura&publisher=ministrstvo_za_notranje_zadeve_policija\n",
    "\n",
    "Prvotni namen zbiranja podatkov je najverjetneje shranjevanje in objektivno prikazovanje podatkov glede prometnih nesreč v Sloveniji. \n",
    "Podatki so nam podani v .cvs obliki, vzeli pa smo podatke za zadnjih 10 let nazaj, torej od 2011 do 2021. Za vsako leto so podani v posebej datoteki, zato smo pred analizo vse te datoteke prebrali in podatke združili v en velik seznam slovarjev.\n",
    "\n",
    "\n"
   ]
  },
  {
   "cell_type": "markdown",
   "id": "3ada3a96",
   "metadata": {},
   "source": [
    "## Glavne ugotovitve in izvedene analize\n",
    "\n",
    "Vsa koda se izvaja v nootebooku: https://github.com/LaraPirjevec/PR21LPTKRSTPEP/blob/main/jupyter/graphs.ipynb\n",
    "\n",
    "Sprva smo morali nastaviti in pretvoriti podatke v stanje za lažjo obdelavo. Za večino analize smo uporabljali programski jezik python in vsa orodja, ki nam jih omogoča. Analizo smo tudi izvajali s programom Microsoft Excel.\n",
    "\n",
    "Podatke nesreč v Sloveniji smo za lažjo predstavo tudi vizualno predstavili, s pomočjo metode BBox.\n"
   ]
  },
  {
   "cell_type": "markdown",
   "id": "d1e68c3d",
   "metadata": {},
   "source": [
    "#### Ali obstaja povezava med vsebnostjo alkohola in resnostjo nesreč?\n",
    "\n",
    "Poskusili smo vzpostaviti povezavo med, ne točno količino alkohola v krvi ampak samo vsebnostjo in resnostjo nesreč. \n",
    "\n",
    "Nepresenetljivo so rezultati bili zaskrbljujoči. Možnost za smrt pri treznem vozniku v nesreči  je bila 0.63%, pri alkoholiziranem pa 2.24%. Možnost Težje poškodbe ali smrt pri treznem vozniku je bila 4.63% pri alkoholiziranem pa 11.07%.\n",
    "\n",
    "To da se zgodi več resnejših nesreč pod vplivom alkohola nas ni presenetilo saj alkohol vpliva na reakcijski čaš in splošno zavedanje voznika, kar je v nesrečah, kjer je vsaka milisekunda pomembna zelo vitalno."
   ]
  },
  {
   "attachments": {},
   "cell_type": "markdown",
   "id": "8547c0b5",
   "metadata": {},
   "source": [
    "#### Pri katerem nivoju vsebovanja alkohola v krvi se zgodi največ nesreč?\n",
    "\n",
    "Naslednji korak je bil točno razvrstiti  število nesreč po količini alkohola v krvi in sicer za nad 0.2; nad; 0.5; in nad 1.1 promila v krvi.\n",
    "\n",
    "Rezultati so podpirali prejšnje ugotovitve in odgovorili na naše zastavljeno vprašanje, da se večina nesreč pod vplivom alkohola ne zgodi pod omejitvami ampak nad. V omejitvah se pripeti samo 11.66% nesreč. Kar 53.61% nesreč se pa zgodi nad 1.1 promila v krvi.\n",
    "\n",
    "Povečanje nesreč pod vplivom alkohola, pri povečani vsebovanosti alkohola v krvi nas že spet ni presenetilo, ampak smo se začeli spraševati če bi bili strožji ukrepi res učinkovtiejši."
   ]
  },
  {
   "cell_type": "markdown",
   "id": "f2fd6ded",
   "metadata": {},
   "source": [
    "#### Kakšen tip nesreče je najbolj pogost zaradi vinjenosti?\n",
    "\n",
    "Na vprašanje, kateri tip nesreče je najbolj pogost, smo odgovorili tako, da za vsako nesrečo preverimo najprej vrednost strokovnega pregleda nesreče, če se ta ne razlikuje od nič, pa vrednost alkotesta. Vrednost alkotesta je potrebno tudi pretvoriti iz vrednosti izdihanega zraka, v vrednost alkohola v krvi. \n",
    "\n",
    "Pri tem smo izvedeli, da sta dva najbolj pogosta tipa nesreče v vinjenem stanju trčenje v objekt, ter bočno trčenje. Najmanj pogoste pa povoženje pešča in povoženje živali.\n"
   ]
  },
  {
   "cell_type": "markdown",
   "id": "e60cdc33",
   "metadata": {},
   "source": [
    "#### Kakšne so starostne skupine v dotičnih nesrečah?\n",
    "\n",
    "Raziskali smo tudi številčno razdeljenost število nesreč po starostih skupinah. \n",
    "\n",
    "Ugotovili smo da se največ nesreč zgodi pri starostni skupini 25-29 in 20-24, kar nas ni ravno presenetilo, saj so razlogi za to lahko premalo izkušenj in predcenjevanje svojih sposobnosti. Kar je pa tudi zaskrbljujoče je pa da je v teh dveh skupinah okoli 15% od populacije s veljavnim vozniškim dovoljenjem, v starejših skupinah pa skoraj v vsaki 10%."
   ]
  },
  {
   "cell_type": "markdown",
   "id": "e8756897",
   "metadata": {},
   "source": [
    "#### Ali je alkohol glavni vzrok za hujše nesreče?\n",
    "\n",
    "Pri tem vprašanju smo poskušali vzpostaviti poveazavo med nesreč (v kontekstu vinjenosti) in gostoto prometa, na primer če bi večji promet vplival na večjo možnost nesreč.\n",
    "\n",
    "Rezultati so prikazali obsežni procent nesreč s hudimi telesnimi poškodbami, kjer je bil najmanši gost promet. Tukaj je bilo tudi največ nesreč s smrtnim izidom. Veliko nesreč obeh vrst je bilo pa tudi pri zelo gostem prometu.\n",
    "\n",
    "Iz rezultatov sklepamo da je gostota prometa rahlo povezana z nesrečami v kontekstu vinjenosti. Saj v bolj gostem prometu težje biti totalno zavesten situacije okolj sebe in lahko prej pride do napak."
   ]
  },
  {
   "cell_type": "markdown",
   "id": "2b7614e3",
   "metadata": {},
   "source": [
    "#### Kako so ukrepi po 2011 vplivali na voznike?\n",
    "\n",
    "Za to vprašanje smo primerjali verjetnost da bo voznik vozil vinjen, smrt trezen ali alkoholiziran, ter tešje poškodbe ali smrt, trezen ali alkoholiziran pred in po uvedbi zakonov leta 2011.\n",
    "\n",
    "Pred uvedbo novih zakonov je verjetnost: \n",
    "da bo vozil vinjen: 0.068%\n",
    "Smrt, trezen: 0.73%\n",
    "Smrt, alkoholiziran: 2.55%\n",
    "Težje poškodbe ali smrt, trezen: 4.81%\n",
    "Težje poškodbe ali smrt, alkoholiziran: 11.55%\n",
    "\n",
    "\n",
    "Po uvedbi novih zakonov\n",
    "Verjetnost, da bo vozil vinjen: 0.066%\n",
    "Smrt, trezen: 0.63%\n",
    "Smrt, alkoholiziran: 2.21%\n",
    "Težje poškodbe ali smrt, trezen: 4.61%\n",
    "Težje poškodbe ali smrt, alkoholiziran: 11.0%\n",
    "\n",
    "Po rezultatih vidimo da so se okolišćine nekoliko poboljšale, koliko pa lahko to priznali strožjim ukrepom je pa težko izmeriti."
   ]
  },
  {
   "cell_type": "markdown",
   "id": "33bfc05d",
   "metadata": {},
   "source": [
    "#### Kdaj se take nesreče najpogosteje zgodijo?\n",
    "\n",
    "Nazadnje smo tudi odgovorili na vprašanje kdaj se zgodi največ nesreč pod vplivom alkohola.\n",
    "\n",
    "Rezultati so pokazali da se večino nesreč zgodi v večernih urah okoli 20:00, najmanj pa v jutranjih urah okoli 09:00. \n",
    "\n",
    "Da se proti večernih urah zgodi več nesreč nas ni presenetilo, mogoče smo samo mislili, da se bo beč nesreč zgodilo v malo bolj poznih urah.\n"
   ]
  },
  {
   "cell_type": "code",
   "execution_count": null,
   "id": "bd66a5f4",
   "metadata": {},
   "outputs": [],
   "source": []
  }
 ],
 "metadata": {
  "kernelspec": {
   "display_name": "Python 3",
   "language": "python",
   "name": "python3"
  },
  "language_info": {
   "codemirror_mode": {
    "name": "ipython",
    "version": 3
   },
   "file_extension": ".py",
   "mimetype": "text/x-python",
   "name": "python",
   "nbconvert_exporter": "python",
   "pygments_lexer": "ipython3",
   "version": "3.8.8"
  },
  "latex_envs": {
   "LaTeX_envs_menu_present": true,
   "autoclose": false,
   "autocomplete": true,
   "bibliofile": "biblio.bib",
   "cite_by": "apalike",
   "current_citInitial": 1,
   "eqLabelWithNumbers": true,
   "eqNumInitial": 1,
   "hotkeys": {
    "equation": "Ctrl-E",
    "itemize": "Ctrl-I"
   },
   "labels_anchors": false,
   "latex_user_defs": false,
   "report_style_numbering": false,
   "user_envs_cfg": false
  },
  "nbTranslate": {
   "displayLangs": [
    "*"
   ],
   "hotkey": "alt-t",
   "langInMainMenu": true,
   "sourceLang": "en",
   "targetLang": "fr",
   "useGoogleTranslate": true
  }
 },
 "nbformat": 4,
 "nbformat_minor": 5
}
