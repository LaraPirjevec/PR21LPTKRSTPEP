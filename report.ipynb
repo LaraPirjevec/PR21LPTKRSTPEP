{
 "cells": [
  {
   "cell_type": "markdown",
   "id": "42521a56",
   "metadata": {},
   "source": [
    "# Vinjenost in prometne nesreče: je smiselno zaostriti pogoje?\n",
    "\n",
    "Podatkovno Rudarjenje 21/22 Skupina 9 Lara Pirjevec, Tilen Kelc, Rok Stanič, Tomaž Plešnik, Erik Poljšak\n",
    "\n",
    "## Problem\n",
    "\n",
    "Alkohol in njegovi učinki na voznika, je še vedno eden glavnih elementov pri povzročitvi prometnih nesreč. Alkohol omeji naše sposobnosti varnega sodelovanja v prometu, počasnejše zaznavamo, predvidevamo in presodimo situacije. Zato se zaradi vpliva alkohola že pri koncentraciji 0,5 promila verjetnost povzročitve prometne nesreče podvoji, pri 1,1 promila alkohola pa 8-krat poveča v primerjavi s treznim voznikom.\n",
    "Zakoni glede omejitve koncentracije alkohola v krvi se čez leta spreminjajo. Vedno bolj se poostrujejo, ampak zaskrbljujoče je da več kot tretjina voznikov, ki povzročijo smrtno prometno nesrečo, vozi pod vplivom alkohola.\n",
    "Leta 2019 je Agencija za varnost prometa (AVP) dala predlog, da bi znižali dovoljene meje alkohola za voznike s sedanjih 0,5 na 0,2 promila alkohola v krvi. Ministrstvu za infrastrukturo pa predlagajo tudi strožjo obravnavo voznikov, ki imajo v krvi več kot 1,1 promila alkohola.\n",
    "\n",
    "Zanima nas če so spremembe zakonika res potrebne pri zmanjšanju nesreč in izboljšanju situacije. Glavno vprašanje je \"Ali se večina prometnih nesreč zaradi vinjenosti zgodi znotraj dovoljenih meja?\", iz katerega pa sledijo tudi podvprašanja, kot so:\n",
    "\n",
    "- Ali so ceste bolj varne s strožji ukrepi?,\n",
    "- Kakšen tip nesreče je najbolj pogost zaradi vinjenosti?,\n",
    "- Kakšne so starostne skupine v dotičnih nesrečah?,\n",
    "- Kdaj se take nesreče zgodijo?,\n",
    "- Ali obstaja povezava med vsebnostjo alkohola in resnostjo nesreč?,\n",
    "- Kakšna je odvisnost števila nesreč od količine prometa, seveda še vedno v kontekstu vinjenih voznikov?\n",
    "\n",
    "Ter če bi pri vseh naših ugotovitvah, bilo smiselno povišati kazni za prekrškarje.\n",
    "\n",
    "## Podatki\n",
    "\n",
    "Podatke smo pridobili preko statističnega urada in sicer policijski zapisnik od leta 2009 dalje. \n",
    "\n",
    "Link: https://podatki.gov.si/data/search?open_data=True&all_podrocje=Promet+in+infrastruktura&publisher=ministrstvo_za_notranje_zadeve_policija\n",
    "\n",
    "Prvotni namen zbiranja podatkov je shranjevanje in objektivno prikazovanje podatkov glede prometnih nesreč v Sloveniji. \n",
    "Podatki so nam podani v .cvs obliki, vzeli pa smo podatke od leta 2009 do 2021, Podatki za vsako leto pa so podani v posebej datoteki, zato smo pred analizo vse te datoteke prebrali in podatke združili v en velik seznam slovarjev."
   ]
  },
  {
   "cell_type": "markdown",
   "id": "3ada3a96",
   "metadata": {},
   "source": [
    "## Glavne ugotovitve in izvedene analize\n",
    "\n",
    "Vsa koda se izvaja v nootebooku: https://github.com/LaraPirjevec/PR21LPTKRSTPEP/blob/main/jupyter/graphs.ipynb\n",
    "\n",
    "Sprva smo vzeli podatke za zadnjih 10 let nazaj, torej od 2011 do 2021, vendar pa smo kasneje ugotovili, da bi za vprašanje, \"Ali so ceste bolj varne s strožjimi ukrepi?\", bilo smiselno pogledati stanje pred povišanjem kazni in stanje po povišanju kazni. Zato smo kasneje povečali število podatkov, ter vzeli vse podatke od vključno leta 2009 do 2021.\n",
    "\n",
    "Nato smo morali pretvoriti podatke v utf-8 format, ter jih še nato shraniti v stanje za lažjo obdelavo. Za večino analize smo uporabljali programski jezik python in vsa orodja, ki nam jih omogoča. Smo pa tudi uporabljali program Microsoft Excel, s katerim smo naše podatke preverjali.\n",
    "\n",
    "Podatke nesreč v Sloveniji smo za lažjo predstavo tudi vizualno predstavili.\n",
    "\n",
    "<img src=\"files/images/zemljevid.jpg\" alt=\"Zemljevid\">"
   ]
  },
  {
   "cell_type": "markdown",
   "id": "d1e68c3d",
   "metadata": {},
   "source": [
    "#### Ali obstaja povezava med vsebnostjo alkohola in resnostjo nesreč?\n",
    "\n",
    "Pri tem vprašanju, smo poskusili vzpostaviti povezavo med količino alkohola v krvi in resnostjo nesreč. Pri tem smo najprej pridobili vse vinjene voznike, vendar pa se tukaj pojavi že prvi problem. Imamo namreč podana 2 podatka za količino alkohola, ta pa sta količina alkohola v krvi, ter količina alkohola v izdihanem zraku.\n",
    "\n",
    "Odločili smo se, da bomo količino alkohola najprej v podatkih enega incidenta preverili z količino alkohola v krvi, če pa tega ni podanega oz. je enak 0, potem bomo pa pogledli količino alkohola v izdihanem zraku. Vendar pa količina alkohola v izdihanem zraku ni ista kot v krvi, zato smo jo morali pretvoriti, s pomočjo spodaj podane strani, iz katere smo izvedeli koeficient za pretvorbo. Ta je bil 2,083.\n",
    "https://www.utoledo.edu/studentaffairs/counseling/selfhelp/substanceuse/bac.html\n",
    "\n",
    "Nato smo izračunali verjetnosti težjih poškodb in smrti pri treznem vozniku, nato pa to primerjali še z vinjenim voznikom.\n",
    "\n",
    "Nepresenetljivo so rezultati bili zaskrbljujoči. Možnost za smrt pri treznem vozniku v nesreči  je bila 0.66%, pri alkoholiziranem pa kar 2.3%. Tukaj smo opazili, da je verjetnost smrti pri vinjeni osebi kar 348% večja. Možnost težje poškodbe ali smrti pri treznem vozniku je bila 4.66%, pri alkoholiziranem pa 11.15% oz. kar 239% povečanje.\n",
    "\n",
    "Vendar pa nas to ni presenetilo veliko, saj se zgodi več resnejših nesreč pod vplivom alkohola, ker alkohol vpliva na reakcijski čas in splošno zavedanje voznika, ter ima to posledično tudi velik vpliv, saj je pri nesrečah, vsaka milisekunda pomembna za preprečitev oz. zmanjšanje težavnosti poškodb.\n",
    "\n",
    "<img src=\"files/images/graf_podatki.jpg\" alt=\"Vsebnost alkohola in procent nesreč\">"
   ]
  },
  {
   "cell_type": "markdown",
   "id": "8547c0b5",
   "metadata": {},
   "source": [
    "#### Ali se večina prometnih nesreč zaradi vinjenosti zgodi znotraj dovoljenih meja?\n",
    "\n",
    "Nato pa smo odgovorili še na naše glavno vprašanje.Tukaj smo najprej točno razvrstili število nesreč po količini alkohola v krvi in sicer za nivoje:\n",
    "- nad 0.2,\n",
    "- nad 0.5,\n",
    "- ter nad 1.1 promila v krvi.\n",
    "\n",
    "Rezultati so podpirali prejšnje ugotovitve. Iz njih smo namreč razbrali, da se več kot polovica nesreč zgodi nad omejitvami. Pri tem pa smo tudi ugotovili, da se pri meji nad 1.1 promila v krvi zgodi kar 54.51% vseh nesreč.\n",
    "\n",
    "Povečanje nesreč pod vplivom alkohola nas že spet ni presenetilo, ampak smo se začeli spraševati če bi bili strožji ukrepi res učinkovitejši.\n",
    "\n",
    "<img src=\"files/images/razporeditev_alkohola.jpg\" alt=\"Razporeditev alkohola\">"
   ]
  },
  {
   "cell_type": "markdown",
   "id": "f2fd6ded",
   "metadata": {},
   "source": [
    "#### Kakšen tip nesreče je najbolj pogost zaradi vinjenosti?\n",
    "\n",
    "Pri tem vprašanju, smo preverili, kateri tipi nesreč so najbolj pogosti v stanju vinjenosti. \n",
    "\n",
    "To smo naredili tako, da smo za vsako nesrečo pogledali, ali je bil voznik vinjen (tukaj smo spet upoštevali pretvorbo alkohola v izdihanem zraku, omenjeno v prejšnem vprašanju), ter si nato shranjevali tipe nesreč, skupaj z številom pojavnosti.\n",
    "\n",
    "Pri tem smo izvedeli, da sta dva najbolj pogosta tipa nesreče v vinjenem stanju trčenje v objekt, kateri se zgodi z 14.46% verjetnostjo, ter bočno trčenje, katero se zgodi z podobno verjetnostjo, kar pa znaša 11.1%. Najmanjkrat pa se zgodi povoženje pešča in povoženje živali.\n",
    "\n",
    "<img src=\"files/images/graf_tip_nesrec.jpg\" alt=\"Tip nesreč\">"
   ]
  },
  {
   "cell_type": "markdown",
   "id": "e60cdc33",
   "metadata": {},
   "source": [
    "#### Kakšne so starostne skupine v dotičnih nesrečah?\n",
    "\n",
    "Raziskali smo tudi številčno razdeljenost po starostih skupinah. Pri tem, pa smo maksimalno pričakovano mejo življenja ljudi (okoli 90 let) razbili v manjše obsege po okoli 5 let. Pričeli smo z 10-timi leti, saj smo opazili, da imamo namreč nekaj posameznikov, kateri so že v tem obdobju vinjeni sedli za volan.\n",
    "\n",
    "Ugotovili pa smo, da se največ nesreč zgodi pri starostni skupini 25-29 in 20-24, kar nas ni ravno presenetilo, saj so razlogi za to lahko premalo izkušenj in predcenjevanje svojih sposobnosti.\n",
    "\n",
    "Iz grafa pa je možno razbrati tudi, da število nesreč v skupinah sčasoma upada, vendar za naše pojme, še ne dovolj.\n",
    "\n",
    "<img src=\"files/images/graf_starost.jpg\" alt=\"Porazdelitev nesreč v starostne skupine\">"
   ]
  },
  {
   "cell_type": "markdown",
   "id": "e8756897",
   "metadata": {},
   "source": [
    "#### Kakšna je odvisnost števila nesreč od količine prometa, seveda še vedno v kontekstu vinjenih voznikov?\n",
    "\n",
    "Pri tem vprašanju smo poskušali vzpostaviti povezavo med številom nesreč (v kontekstu vinjenosti) in gostoto prometa, na primer, če bi večja gostota prometa vplivala na večjo možnost nesreč.\n",
    "\n",
    "Za rešitev tega vprašanja, smo iz interneta pridobili zemljevid gostote prometa v Sloveniji. Nato, pa smo ga primerjali z našim pridobljenim zemljevidom, kateri prikazuje kraje nesreč. Iz pridobljenih podatkov smo nato zračunali gostoto prometa pri posamezni nesreči, ter jo v vsakemu primeru nesreče podali zraven kot atribut.\n",
    "\n",
    "Nato smo iz novo nastalih podatkov pridobili vse nesreče z hudimi telesnimi poškodbami in nesreče z smrtnim izzidom, ter jih prikazali z grafom.\n",
    "\n",
    "<img src=\"files/images/gostota_prometa.jpg\" alt=\"Gostota prometa v povezavi z vinjenostjo\">\n",
    "\n",
    "Rezultati so prikazali obsežni procent nesreč s hudimi telesnimi poškodbami, kjer je bil promet najmanj gost. Tukaj je bilo tudi največ nesreč s smrtnim izidom. Veliko nesreč obeh vrst je bilo pa tudi pri zelo gostem prometu. Iz grafa pa je možno razbrati tudi, da obstaja povezava med gostoto prometa in številom nesreč, saj je možno videti, da pri najmanj gostem prometu in najbolj gostem prometu, je število nesreč z smrtnim izzidom zelo podobno, čeprav v vmesnih primerih upada. \n",
    "\n",
    "Iz rezultatov sklepamo da je gostota prometa rahlo povezana z nesrečami v kontekstu vinjenosti. Saj je v bolj gostem prometu težje biti totalno zavesten situacije okolj sebe in lahko prej pride do napak."
   ]
  },
  {
   "cell_type": "markdown",
   "id": "2b7614e3",
   "metadata": {},
   "source": [
    "#### Ali so ceste bolj varne s strožji ukrepi?,\n",
    "\n",
    "Pri tem vprašanju, smo našli na spletu zadnji datum (oktober 2011), ko so povečali kazni za vinjeno vožnjo, ter primerjali rezultate pred to povečavo, z rezultati po tej povečavi. Primerjali smo verjetnosti, da če bo voznik vozil vinjen, kakšna je verjetnost smrti in kakšna verjetnost težjih poškodb. To smo ponovili tudi za treznega voznika.\n",
    "\n",
    "Pred uvedbo novih zakonov je verjetnost, da bo vozil vinjen: 0.068% <br>\n",
    "Smrt, trezen: 0.73% <br>\n",
    "Smrt, alkoholiziran: 2.55% <br>\n",
    "Težje poškodbe ali smrt, trezen: 4.81% <br>\n",
    "Težje poškodbe ali smrt, alkoholiziran: 11.55% <br>\n",
    "\n",
    "Po uvedbi novih zakonov, je verjetnost, da bo vozil vinjen: 0.066% <br>\n",
    "Smrt, trezen: 0.63% <br>\n",
    "Smrt, alkoholiziran: 2.21% <br>\n",
    "Težje poškodbe ali smrt, trezen: 4.61% <br>\n",
    "Težje poškodbe ali smrt, alkoholiziran: 11.0% <br>\n",
    "\n",
    "Po rezultatih vidimo da so se okolišćine nekoliko izboljšale, koliko pa lahko to priznali strožjim ukrepom je pa težko izmeriti."
   ]
  },
  {
   "cell_type": "markdown",
   "id": "33bfc05d",
   "metadata": {},
   "source": [
    "#### Kdaj se take nesreče najpogosteje zgodijo?\n",
    "\n",
    "Nazadnje smo odgovorili tudi na vprašanje kdaj se zgodi največ nesreč pod vplivom alkohola.\n",
    "\n",
    "Tukaj se je pojavil manjši problem, ta pa je bil to, da ker smo najprej podatke pretvorili v utf-8 format, so se nam določeni podatki, bolj natančno ure prometne nesreče, spremenili.\n",
    "\n",
    "To smo rešili tako, da smo šli čez vse podatke, ter jim preverili pravilnost. Potem pa smo pridobili pojavitve časovnih oznak prometnih nesreč in jih prikazali z grafom.\n",
    "\n",
    "<img src=\"files/images/time_graph.jpg\" alt=\"Časovni graf\">\n",
    "\n",
    "Rezultati so pokazali da se večino nesreč zgodi v večernih urah okoli 19:00, najmanj pa v jutranjih urah okoli 08:00.\n",
    "\n",
    "Da se proti večernih urah zgodi več nesreč nas ni presenetilo, vendar pa smo mislili, da se bo več nesreč zgodilo v malo bolj poznih urah, npr. okoli 22,23 ure."
   ]
  },
  {
   "cell_type": "markdown",
   "id": "46ea119f",
   "metadata": {},
   "source": [
    "### Zaključek\n",
    "\n",
    "Naš zaključek te raziskovalne naloge, je, da bi bilo smiselno ukrepe še bolj zaostriti, saj smo ugotovili, da večina nesreč v vinjenem stanju se zgodi krepko čez dovoljeno mejo. Če pogledamo še stanje pred povišanjem kazni, ter stanje po povišanju, lahko vidimo majhno izboljšavo, vendar bi tukaj potrebovali več podatkov za boljšo analizo."
   ]
  }
 ],
 "metadata": {
  "kernelspec": {
   "display_name": "Python 3 (ipykernel)",
   "language": "python",
   "name": "python3"
  },
  "language_info": {
   "codemirror_mode": {
    "name": "ipython",
    "version": 3
   },
   "file_extension": ".py",
   "mimetype": "text/x-python",
   "name": "python",
   "nbconvert_exporter": "python",
   "pygments_lexer": "ipython3",
   "version": "3.9.7"
  },
  "latex_envs": {
   "LaTeX_envs_menu_present": true,
   "autoclose": false,
   "autocomplete": true,
   "bibliofile": "biblio.bib",
   "cite_by": "apalike",
   "current_citInitial": 1,
   "eqLabelWithNumbers": true,
   "eqNumInitial": 1,
   "hotkeys": {
    "equation": "Ctrl-E",
    "itemize": "Ctrl-I"
   },
   "labels_anchors": false,
   "latex_user_defs": false,
   "report_style_numbering": false,
   "user_envs_cfg": false
  },
  "nbTranslate": {
   "displayLangs": [
    "*"
   ],
   "hotkey": "alt-t",
   "langInMainMenu": true,
   "sourceLang": "en",
   "targetLang": "fr",
   "useGoogleTranslate": true
  }
 },
 "nbformat": 4,
 "nbformat_minor": 5
}
