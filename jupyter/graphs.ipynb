{
 "cells": [
  {
   "cell_type": "markdown",
   "source": [
    "Razlicni grafi za seminarsko 2022\n",
    "Za pretvorbo med alkoholom v izdihanem zraku in v krvi se uporablja 2,083.\n",
    "https://www.utoledo.edu/studentaffairs/counseling/selfhelp/substanceuse/bac.html, ponuja vrednost 1 : 2100, vendar je legalna meja 0,5 g/kg krvi oziroma 0,24 mg/l, v izdihanem zraku. Koeficient je torej 2.083.\n"
   ],
   "metadata": {
    "collapsed": false
   }
  },
  {
   "cell_type": "code",
   "execution_count": 3,
   "outputs": [
    {
     "name": "stdout",
     "output_type": "stream",
     "text": [
      "/Users/erik/Documents/Faks/2.letnik/PR/projektna naloga/PR21LPTKRSTPEP/jupyter\n"
     ]
    }
   ],
   "source": [
    "#init code\n",
    "import numpy as np\n",
    "import matplotlib.pyplot as plt\n",
    "from csv import DictReader\n",
    "\n",
    "data = []\n",
    "for year in range(2011, 2021):\n",
    "    data += list(DictReader(open(f'../data/pn{year}.csv', 'rt', encoding='utf-8'), delimiter=\";\"))\n",
    "\n",
    "for row in data:\n",
    "    row[\"VrednostAlkotesta\"] = row[\"VrednostAlkotesta\"].replace(\",\", \".\")\n",
    "    row[\"VrednostStrokovnegaPregleda\"] = row[\"VrednostStrokovnegaPregleda\"].replace(\",\", \".\")\n",
    "\n",
    "\n",
    "def create_geo_array():\n",
    "    latitudes = []\n",
    "    longitudes = []\n",
    "    for row in data:\n",
    "        latitude = float(row[\"GeoKoordinataX\"])\n",
    "        longitude = float(row[\"GeoKoordinataY\"])\n",
    "        if (longitude == 0.0 or latitude == 0.0):\n",
    "            continue\n",
    "        latitudes.append(float(row[\"GeoKoordinataX\"]))\n",
    "        longitudes.append(float(row[\"GeoKoordinataY\"]))\n",
    "    return np.array([latitudes, longitudes])\n",
    "\n",
    "\n",
    "df_geo = create_geo_array()\n",
    "\n",
    "def qulify_accident(amounts_dict, key, row):\n",
    "    item = amounts_dict[key]\n",
    "    amounts_dict[key] = (item[0] + 1, item[1], item[2])\n",
    "    if (row[\"KlasifikacijaNesrece\"] == \"S SMRTNIM IZIDOM\"):\n",
    "        amounts_dict[key] = (item[0], item[1], item[2] + 1)\n",
    "    elif (row[\"KlasifikacijaNesrece\"] == \"S HUDO TELESNO POŠKODBO\"):\n",
    "        amounts_dict[key] = (item[0], item[1] + 1, item[2])\n",
    "    return amounts_dict\n",
    "\n",
    "\n",
    "def accidents_by_alcohol_amount():\n",
    "    amounts_dict = dict()\n",
    "    for row in data:\n",
    "        a_alc = float(row[\"VrednostStrokovnegaPregleda\"])\n",
    "        if (a_alc == 0):\n",
    "            a_alc = float(row[\"VrednostAlkotesta\"]) * 2.083\n",
    "        if (a_alc == 0):\n",
    "            a_alc_class = 0\n",
    "        elif (a_alc < 0.5):\n",
    "             a_alc_class = 0.5\n",
    "        elif (a_alc < 1):\n",
    "            a_alc_class = 1\n",
    "        elif (a_alc < 1.5):\n",
    "            a_alc_class = 1.5\n",
    "        elif (a_alc < 2):\n",
    "            a_alc_class = 2\n",
    "        elif (a_alc < 2.5):\n",
    "            a_alc_class = 2.5\n",
    "        else:\n",
    "            a_alc_class = 3\n",
    "        if amounts_dict.get(a_alc_class) is not None:\n",
    "            amounts_dict = qulify_accident(amounts_dict, a_alc_class, row)\n",
    "        else:\n",
    "            amounts_dict[a_alc_class] = (0, 0, 0)\n",
    "            amounts_dict = qulify_accident(amounts_dict, a_alc_class, row)\n",
    "    return amounts_dict\n",
    "\n",
    "alcohol_to_type = accidents_by_alcohol_amount()"
   ],
   "metadata": {
    "collapsed": false,
    "pycharm": {
     "name": "#%%\n"
    }
   }
  },
  {
   "cell_type": "code",
   "execution_count": null,
   "outputs": [],
   "source": [
    "count_above_proposed = 0\n",
    "count_above_current = 0\n",
    "count_above_max = 0\n",
    "count_alcoholized = 0\n",
    "for row in data:\n",
    "    amount_of_alcohol = float(row[\"VrednostStrokovnegaPregleda\"])\n",
    "    if (amount_of_alcohol == 0):\n",
    "        amount_of_alchocol = float(row[\"VrednostAlkotesta\"]) * 2.083\n",
    "    if (amount_of_alcohol > 0):\n",
    "        count_alcoholized += 1\n",
    "    if amount_of_alcohol > 0.2:\n",
    "        count_above_proposed += 1\n",
    "    if amount_of_alcohol > 0.5:\n",
    "        count_above_current += 1\n",
    "    if amount_of_alcohol > 1.1:\n",
    "        count_above_max += 1\n",
    "print(\n",
    "    f\"Število alkoholiziranih: {count_alcoholized}, \\n\"\n",
    "    f\"nad 0.2: {count_above_proposed}, \\n\"\n",
    "    f\"nad 0.5: {count_above_current}, \\n\"\n",
    "    f\"nad 1.1: {count_above_max}, \\n\"\n",
    "    f\"število nesreč: {len(data)}\")"
   ],
   "metadata": {
    "collapsed": false,
    "pycharm": {
     "name": "#%%\n"
    }
   }
  },
  {
   "cell_type": "code",
   "execution_count": null,
   "outputs": [],
   "source": [
    "#Geolocational graph\n",
    "\n",
    "BBox = (df_geo[1].min(), df_geo[1].max(), df_geo[0].min(), df_geo[0].max())\n",
    "slo_map = plt.imread('data/map.png')\n",
    "\n",
    "fig, ax = plt.subplots(figsize=(9, 8))\n",
    "_ = ax.scatter(df_geo[1], df_geo[0], zorder=1, alpha=0.2, c='b', s=1)\n",
    "\n",
    "ax.set_title('Lokacije nesreč v Sloveniji')\n",
    "ax.set_xlim(BBox[0], BBox[1])\n",
    "ax.set_ylim(BBox[2], BBox[3])\n",
    "_ = ax.imshow(slo_map, zorder=0, extent=BBox, aspect='equal')"
   ],
   "metadata": {
    "collapsed": false,
    "pycharm": {
     "name": "#%%\n"
    }
   }
  },
  {
   "cell_type": "code",
   "execution_count": null,
   "outputs": [],
   "source": [
    "#Povezanost med vsebnostjo alkohola in nesrečami s težkimi poškodbami in smrtmi\n",
    "alcohol_amounts = sorted(alcohol_to_type.keys())\n",
    "ratios_injury_death = []\n",
    "ratios_death = []\n",
    "for key in alcohol_amounts:\n",
    "    item = alcohol_to_type[key]\n",
    "    try:\n",
    "        ratios_injury_death.append((item[1] + item[2]) / item[0])\n",
    "        ratios_death.append((item[2]) / item[0])\n",
    "    except ZeroDivisionError:\n",
    "        pass\n",
    "\n",
    "fig, ax = plt.subplots(1, 2, figsize=(9, 3))\n",
    "ax[0].plot(alcohol_amounts, ratios_injury_death ,c='r')\n",
    "\n",
    "ax[1].plot(alcohol_amounts, ratios_death ,c='r')\n",
    "\n",
    "ax[0].set_title('Vsebnost alkohola in procent nesreč,\\n pri katerih je prišlo do težjih poškodb ali smrti')\n",
    "ax[1].set_title(\"Vsebnost alkohola in procent nesreč,\\n pri katerih je prišlo do smrti\")\n",
    "\n"
   ],
   "metadata": {
    "collapsed": false,
    "pycharm": {
     "name": "#%%\n"
    }
   }
  }
 ],
 "metadata": {
  "kernelspec": {
   "name": "pycharm-e631aa4a",
   "language": "python",
   "display_name": "PyCharm (PR21LPTKRSTPEP)"
  },
  "language_info": {
   "codemirror_mode": {
    "name": "ipython",
    "version": 2
   },
   "file_extension": ".py",
   "mimetype": "text/x-python",
   "name": "python",
   "nbconvert_exporter": "python",
   "pygments_lexer": "ipython2",
   "version": "2.7.6"
  }
 },
 "nbformat": 4,
 "nbformat_minor": 0
}